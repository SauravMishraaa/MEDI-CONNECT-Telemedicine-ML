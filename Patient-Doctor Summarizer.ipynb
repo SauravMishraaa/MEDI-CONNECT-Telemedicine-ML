{
 "cells": [
  {
   "cell_type": "code",
   "execution_count": 1,
   "id": "9e933139",
   "metadata": {},
   "outputs": [
    {
     "name": "stdout",
     "output_type": "stream",
     "text": [
      "Requirement already satisfied: sacremoses==0.0.53 in c:\\anaconda\\lib\\site-packages (0.0.53)\n",
      "Requirement already satisfied: tqdm in c:\\anaconda\\lib\\site-packages (from sacremoses==0.0.53) (4.64.1)\n",
      "Requirement already satisfied: joblib in c:\\anaconda\\lib\\site-packages (from sacremoses==0.0.53) (1.1.0)\n",
      "Requirement already satisfied: regex in c:\\anaconda\\lib\\site-packages (from sacremoses==0.0.53) (2022.7.9)\n",
      "Requirement already satisfied: click in c:\\anaconda\\lib\\site-packages (from sacremoses==0.0.53) (8.0.4)\n",
      "Requirement already satisfied: six in c:\\anaconda\\lib\\site-packages (from sacremoses==0.0.53) (1.16.0)\n",
      "Requirement already satisfied: colorama in c:\\anaconda\\lib\\site-packages (from click->sacremoses==0.0.53) (0.4.6)\n",
      "Note: you may need to restart the kernel to use updated packages.\n",
      "Requirement already satisfied: datasets in c:\\anaconda\\lib\\site-packages (2.14.4)\n",
      "Requirement already satisfied: tqdm>=4.62.1 in c:\\anaconda\\lib\\site-packages (from datasets) (4.64.1)\n",
      "Requirement already satisfied: numpy>=1.17 in c:\\anaconda\\lib\\site-packages (from datasets) (1.21.5)\n",
      "Requirement already satisfied: fsspec[http]>=2021.11.1 in c:\\anaconda\\lib\\site-packages (from datasets) (2022.7.1)\n",
      "Requirement already satisfied: pandas in c:\\anaconda\\lib\\site-packages (from datasets) (1.4.4)\n",
      "Requirement already satisfied: requests>=2.19.0 in c:\\anaconda\\lib\\site-packages (from datasets) (2.28.1)\n",
      "Requirement already satisfied: pyyaml>=5.1 in c:\\anaconda\\lib\\site-packages (from datasets) (6.0)\n",
      "Requirement already satisfied: aiohttp in c:\\anaconda\\lib\\site-packages (from datasets) (3.8.5)\n",
      "Requirement already satisfied: huggingface-hub<1.0.0,>=0.14.0 in c:\\anaconda\\lib\\site-packages (from datasets) (0.16.4)\n",
      "Requirement already satisfied: multiprocess in c:\\anaconda\\lib\\site-packages (from datasets) (0.70.15)\n",
      "Requirement already satisfied: packaging in c:\\anaconda\\lib\\site-packages (from datasets) (21.3)\n",
      "Requirement already satisfied: dill<0.3.8,>=0.3.0 in c:\\anaconda\\lib\\site-packages (from datasets) (0.3.7)\n",
      "Requirement already satisfied: xxhash in c:\\anaconda\\lib\\site-packages (from datasets) (3.3.0)\n",
      "Requirement already satisfied: pyarrow>=8.0.0 in c:\\anaconda\\lib\\site-packages (from datasets) (12.0.1)\n",
      "Requirement already satisfied: filelock in c:\\anaconda\\lib\\site-packages (from huggingface-hub<1.0.0,>=0.14.0->datasets) (3.6.0)\n",
      "Requirement already satisfied: typing-extensions>=3.7.4.3 in c:\\anaconda\\lib\\site-packages (from huggingface-hub<1.0.0,>=0.14.0->datasets) (4.3.0)\n",
      "Requirement already satisfied: pyparsing!=3.0.5,>=2.0.2 in c:\\anaconda\\lib\\site-packages (from packaging->datasets) (3.0.9)\n",
      "Requirement already satisfied: charset-normalizer<3,>=2 in c:\\anaconda\\lib\\site-packages (from requests>=2.19.0->datasets) (2.0.4)\n",
      "Requirement already satisfied: idna<4,>=2.5 in c:\\anaconda\\lib\\site-packages (from requests>=2.19.0->datasets) (3.3)\n",
      "Requirement already satisfied: urllib3<1.27,>=1.21.1 in c:\\anaconda\\lib\\site-packages (from requests>=2.19.0->datasets) (1.26.11)\n",
      "Requirement already satisfied: certifi>=2017.4.17 in c:\\anaconda\\lib\\site-packages (from requests>=2.19.0->datasets) (2022.9.14)\n",
      "Requirement already satisfied: colorama in c:\\anaconda\\lib\\site-packages (from tqdm>=4.62.1->datasets) (0.4.6)\n",
      "Requirement already satisfied: frozenlist>=1.1.1 in c:\\anaconda\\lib\\site-packages (from aiohttp->datasets) (1.4.0)\n",
      "Requirement already satisfied: multidict<7.0,>=4.5 in c:\\anaconda\\lib\\site-packages (from aiohttp->datasets) (6.0.4)\n",
      "Requirement already satisfied: aiosignal>=1.1.2 in c:\\anaconda\\lib\\site-packages (from aiohttp->datasets) (1.3.1)\n",
      "Requirement already satisfied: async-timeout<5.0,>=4.0.0a3 in c:\\anaconda\\lib\\site-packages (from aiohttp->datasets) (4.0.3)\n",
      "Requirement already satisfied: yarl<2.0,>=1.0 in c:\\anaconda\\lib\\site-packages (from aiohttp->datasets) (1.9.2)\n",
      "Requirement already satisfied: attrs>=17.3.0 in c:\\anaconda\\lib\\site-packages (from aiohttp->datasets) (21.4.0)\n",
      "Requirement already satisfied: pytz>=2020.1 in c:\\anaconda\\lib\\site-packages (from pandas->datasets) (2022.1)\n",
      "Requirement already satisfied: python-dateutil>=2.8.1 in c:\\anaconda\\lib\\site-packages (from pandas->datasets) (2.8.2)\n",
      "Requirement already satisfied: six>=1.5 in c:\\anaconda\\lib\\site-packages (from python-dateutil>=2.8.1->pandas->datasets) (1.16.0)\n",
      "Note: you may need to restart the kernel to use updated packages.\n",
      "Requirement already satisfied: transformers in c:\\anaconda\\lib\\site-packages (4.31.0)\n",
      "Requirement already satisfied: requests in c:\\anaconda\\lib\\site-packages (from transformers) (2.28.1)\n",
      "Requirement already satisfied: tqdm>=4.27 in c:\\anaconda\\lib\\site-packages (from transformers) (4.64.1)\n",
      "Requirement already satisfied: filelock in c:\\anaconda\\lib\\site-packages (from transformers) (3.6.0)\n",
      "Requirement already satisfied: pyyaml>=5.1 in c:\\anaconda\\lib\\site-packages (from transformers) (6.0)\n",
      "Requirement already satisfied: huggingface-hub<1.0,>=0.14.1 in c:\\anaconda\\lib\\site-packages (from transformers) (0.16.4)\n",
      "Requirement already satisfied: regex!=2019.12.17 in c:\\anaconda\\lib\\site-packages (from transformers) (2022.7.9)\n",
      "Requirement already satisfied: numpy>=1.17 in c:\\anaconda\\lib\\site-packages (from transformers) (1.21.5)\n",
      "Requirement already satisfied: safetensors>=0.3.1 in c:\\anaconda\\lib\\site-packages (from transformers) (0.3.2)\n",
      "Requirement already satisfied: tokenizers!=0.11.3,<0.14,>=0.11.1 in c:\\anaconda\\lib\\site-packages (from transformers) (0.13.3)\n",
      "Requirement already satisfied: packaging>=20.0 in c:\\anaconda\\lib\\site-packages (from transformers) (21.3)\n",
      "Requirement already satisfied: typing-extensions>=3.7.4.3 in c:\\anaconda\\lib\\site-packages (from huggingface-hub<1.0,>=0.14.1->transformers) (4.3.0)\n",
      "Requirement already satisfied: fsspec in c:\\anaconda\\lib\\site-packages (from huggingface-hub<1.0,>=0.14.1->transformers) (2022.7.1)\n",
      "Requirement already satisfied: pyparsing!=3.0.5,>=2.0.2 in c:\\anaconda\\lib\\site-packages (from packaging>=20.0->transformers) (3.0.9)\n",
      "Requirement already satisfied: colorama in c:\\anaconda\\lib\\site-packages (from tqdm>=4.27->transformers) (0.4.6)\n",
      "Requirement already satisfied: idna<4,>=2.5 in c:\\anaconda\\lib\\site-packages (from requests->transformers) (3.3)\n",
      "Requirement already satisfied: certifi>=2017.4.17 in c:\\anaconda\\lib\\site-packages (from requests->transformers) (2022.9.14)\n",
      "Requirement already satisfied: urllib3<1.27,>=1.21.1 in c:\\anaconda\\lib\\site-packages (from requests->transformers) (1.26.11)\n",
      "Requirement already satisfied: charset-normalizer<3,>=2 in c:\\anaconda\\lib\\site-packages (from requests->transformers) (2.0.4)\n",
      "Note: you may need to restart the kernel to use updated packages.\n",
      "Requirement already satisfied: torch in c:\\anaconda\\lib\\site-packages (2.0.1)\n",
      "Requirement already satisfied: torchvision in c:\\anaconda\\lib\\site-packages (0.15.2)\n",
      "Requirement already satisfied: torchaudio in c:\\anaconda\\lib\\site-packages (2.0.2)\n",
      "Requirement already satisfied: filelock in c:\\anaconda\\lib\\site-packages (from torch) (3.6.0)\n",
      "Requirement already satisfied: jinja2 in c:\\anaconda\\lib\\site-packages (from torch) (2.11.3)\n",
      "Requirement already satisfied: typing-extensions in c:\\anaconda\\lib\\site-packages (from torch) (4.3.0)\n",
      "Requirement already satisfied: networkx in c:\\anaconda\\lib\\site-packages (from torch) (2.8.4)\n",
      "Requirement already satisfied: sympy in c:\\anaconda\\lib\\site-packages (from torch) (1.10.1)\n",
      "Requirement already satisfied: requests in c:\\anaconda\\lib\\site-packages (from torchvision) (2.28.1)\n",
      "Requirement already satisfied: pillow!=8.3.*,>=5.3.0 in c:\\anaconda\\lib\\site-packages (from torchvision) (9.2.0)\n",
      "Requirement already satisfied: numpy in c:\\anaconda\\lib\\site-packages (from torchvision) (1.21.5)\n",
      "Requirement already satisfied: MarkupSafe>=0.23 in c:\\anaconda\\lib\\site-packages (from jinja2->torch) (2.0.1)\n",
      "Requirement already satisfied: certifi>=2017.4.17 in c:\\anaconda\\lib\\site-packages (from requests->torchvision) (2022.9.14)\n",
      "Requirement already satisfied: charset-normalizer<3,>=2 in c:\\anaconda\\lib\\site-packages (from requests->torchvision) (2.0.4)\n",
      "Requirement already satisfied: urllib3<1.27,>=1.21.1 in c:\\anaconda\\lib\\site-packages (from requests->torchvision) (1.26.11)\n",
      "Requirement already satisfied: idna<4,>=2.5 in c:\\anaconda\\lib\\site-packages (from requests->torchvision) (3.3)\n",
      "Requirement already satisfied: mpmath>=0.19 in c:\\anaconda\\lib\\site-packages (from sympy->torch) (1.2.1)\n",
      "Note: you may need to restart the kernel to use updated packages.\n"
     ]
    }
   ],
   "source": [
    "%pip install sacremoses==0.0.53\n",
    "%pip install datasets\n",
    "%pip install transformers\n",
    "%pip install torch torchvision torchaudio"
   ]
  },
  {
   "cell_type": "code",
   "execution_count": 2,
   "id": "6109f7d8",
   "metadata": {},
   "outputs": [],
   "source": [
    "from datasets import load_dataset \n",
    "from transformers import pipeline"
   ]
  },
  {
   "cell_type": "code",
   "execution_count": 3,
   "id": "8833a767",
   "metadata": {},
   "outputs": [
    {
     "data": {
      "text/plain": [
       "DatasetDict({\n",
       "    train: Dataset({\n",
       "        features: ['document', 'summary', 'id'],\n",
       "        num_rows: 204045\n",
       "    })\n",
       "    validation: Dataset({\n",
       "        features: ['document', 'summary', 'id'],\n",
       "        num_rows: 11332\n",
       "    })\n",
       "    test: Dataset({\n",
       "        features: ['document', 'summary', 'id'],\n",
       "        num_rows: 11334\n",
       "    })\n",
       "})"
      ]
     },
     "execution_count": 3,
     "metadata": {},
     "output_type": "execute_result"
    }
   ],
   "source": [
    "xsum_dataset=load_dataset(\n",
    "\"xsum\",version=\"1.2.0\",cache_dir='C://Users//pc//Desktop//New folder//Cache Folder')\n",
    "\n",
    "xsum_dataset"
   ]
  },
  {
   "cell_type": "code",
   "execution_count": 4,
   "id": "edb4d413",
   "metadata": {},
   "outputs": [
    {
     "data": {
      "text/html": [
       "<div>\n",
       "<style scoped>\n",
       "    .dataframe tbody tr th:only-of-type {\n",
       "        vertical-align: middle;\n",
       "    }\n",
       "\n",
       "    .dataframe tbody tr th {\n",
       "        vertical-align: top;\n",
       "    }\n",
       "\n",
       "    .dataframe thead th {\n",
       "        text-align: right;\n",
       "    }\n",
       "</style>\n",
       "<table border=\"1\" class=\"dataframe\">\n",
       "  <thead>\n",
       "    <tr style=\"text-align: right;\">\n",
       "      <th></th>\n",
       "      <th>document</th>\n",
       "      <th>summary</th>\n",
       "      <th>id</th>\n",
       "    </tr>\n",
       "  </thead>\n",
       "  <tbody>\n",
       "    <tr>\n",
       "      <th>0</th>\n",
       "      <td>The full cost of damage in Newton Stewart, one...</td>\n",
       "      <td>Clean-up operations are continuing across the ...</td>\n",
       "      <td>35232142</td>\n",
       "    </tr>\n",
       "    <tr>\n",
       "      <th>1</th>\n",
       "      <td>A fire alarm went off at the Holiday Inn in Ho...</td>\n",
       "      <td>Two tourist buses have been destroyed by fire ...</td>\n",
       "      <td>40143035</td>\n",
       "    </tr>\n",
       "    <tr>\n",
       "      <th>2</th>\n",
       "      <td>Ferrari appeared in a position to challenge un...</td>\n",
       "      <td>Lewis Hamilton stormed to pole position at the...</td>\n",
       "      <td>35951548</td>\n",
       "    </tr>\n",
       "    <tr>\n",
       "      <th>3</th>\n",
       "      <td>John Edward Bates, formerly of Spalding, Linco...</td>\n",
       "      <td>A former Lincolnshire Police officer carried o...</td>\n",
       "      <td>36266422</td>\n",
       "    </tr>\n",
       "    <tr>\n",
       "      <th>4</th>\n",
       "      <td>Patients and staff were evacuated from Cerahpa...</td>\n",
       "      <td>An armed man who locked himself into a room at...</td>\n",
       "      <td>38826984</td>\n",
       "    </tr>\n",
       "    <tr>\n",
       "      <th>5</th>\n",
       "      <td>Simone Favaro got the crucial try with the las...</td>\n",
       "      <td>Defending Pro12 champions Glasgow Warriors bag...</td>\n",
       "      <td>34540833</td>\n",
       "    </tr>\n",
       "    <tr>\n",
       "      <th>6</th>\n",
       "      <td>Veronica Vanessa Chango-Alverez, 31, was kille...</td>\n",
       "      <td>A man with links to a car that was involved in...</td>\n",
       "      <td>20836172</td>\n",
       "    </tr>\n",
       "    <tr>\n",
       "      <th>7</th>\n",
       "      <td>Belgian cyclist Demoitie died after a collisio...</td>\n",
       "      <td>Welsh cyclist Luke Rowe says changes to the sp...</td>\n",
       "      <td>35932467</td>\n",
       "    </tr>\n",
       "    <tr>\n",
       "      <th>8</th>\n",
       "      <td>Gundogan, 26, told BBC Sport he \"can see the f...</td>\n",
       "      <td>Manchester City midfielder Ilkay Gundogan says...</td>\n",
       "      <td>40758845</td>\n",
       "    </tr>\n",
       "    <tr>\n",
       "      <th>9</th>\n",
       "      <td>The crash happened about 07:20 GMT at the junc...</td>\n",
       "      <td>A jogger has been hit by an unmarked police ca...</td>\n",
       "      <td>30358490</td>\n",
       "    </tr>\n",
       "  </tbody>\n",
       "</table>\n",
       "</div>"
      ],
      "text/plain": [
       "                                            document  \\\n",
       "0  The full cost of damage in Newton Stewart, one...   \n",
       "1  A fire alarm went off at the Holiday Inn in Ho...   \n",
       "2  Ferrari appeared in a position to challenge un...   \n",
       "3  John Edward Bates, formerly of Spalding, Linco...   \n",
       "4  Patients and staff were evacuated from Cerahpa...   \n",
       "5  Simone Favaro got the crucial try with the las...   \n",
       "6  Veronica Vanessa Chango-Alverez, 31, was kille...   \n",
       "7  Belgian cyclist Demoitie died after a collisio...   \n",
       "8  Gundogan, 26, told BBC Sport he \"can see the f...   \n",
       "9  The crash happened about 07:20 GMT at the junc...   \n",
       "\n",
       "                                             summary        id  \n",
       "0  Clean-up operations are continuing across the ...  35232142  \n",
       "1  Two tourist buses have been destroyed by fire ...  40143035  \n",
       "2  Lewis Hamilton stormed to pole position at the...  35951548  \n",
       "3  A former Lincolnshire Police officer carried o...  36266422  \n",
       "4  An armed man who locked himself into a room at...  38826984  \n",
       "5  Defending Pro12 champions Glasgow Warriors bag...  34540833  \n",
       "6  A man with links to a car that was involved in...  20836172  \n",
       "7  Welsh cyclist Luke Rowe says changes to the sp...  35932467  \n",
       "8  Manchester City midfielder Ilkay Gundogan says...  40758845  \n",
       "9  A jogger has been hit by an unmarked police ca...  30358490  "
      ]
     },
     "metadata": {},
     "output_type": "display_data"
    }
   ],
   "source": [
    "xsum_sample = xsum_dataset[\"train\"].select(range(10))\n",
    "\n",
    "display(xsum_sample.to_pandas())"
   ]
  },
  {
   "cell_type": "code",
   "execution_count": 6,
   "id": "6c9a74e2",
   "metadata": {},
   "outputs": [
    {
     "data": {
      "application/vnd.jupyter.widget-view+json": {
       "model_id": "074a4994136044a4b6d1888be57d57fa",
       "version_major": 2,
       "version_minor": 0
      },
      "text/plain": [
       "Downloading model.safetensors:   0%|          | 0.00/242M [00:00<?, ?B/s]"
      ]
     },
     "metadata": {},
     "output_type": "display_data"
    },
    {
     "data": {
      "application/vnd.jupyter.widget-view+json": {
       "model_id": "769d3465b3c54f899d00cfb5e8b9ad89",
       "version_major": 2,
       "version_minor": 0
      },
      "text/plain": [
       "Downloading (…)neration_config.json:   0%|          | 0.00/147 [00:00<?, ?B/s]"
      ]
     },
     "metadata": {},
     "output_type": "display_data"
    },
    {
     "data": {
      "application/vnd.jupyter.widget-view+json": {
       "model_id": "3deee880fbc8479b80b978373109dfc8",
       "version_major": 2,
       "version_minor": 0
      },
      "text/plain": [
       "Downloading (…)okenizer_config.json:   0%|          | 0.00/2.32k [00:00<?, ?B/s]"
      ]
     },
     "metadata": {},
     "output_type": "display_data"
    },
    {
     "data": {
      "application/vnd.jupyter.widget-view+json": {
       "model_id": "a02d2a6186714ce6b4b785ab702c1131",
       "version_major": 2,
       "version_minor": 0
      },
      "text/plain": [
       "Downloading (…)ve/main/spiece.model:   0%|          | 0.00/792k [00:00<?, ?B/s]"
      ]
     },
     "metadata": {},
     "output_type": "display_data"
    },
    {
     "data": {
      "application/vnd.jupyter.widget-view+json": {
       "model_id": "11e487ec51c340498d60944f8e535df7",
       "version_major": 2,
       "version_minor": 0
      },
      "text/plain": [
       "Downloading (…)/main/tokenizer.json:   0%|          | 0.00/1.39M [00:00<?, ?B/s]"
      ]
     },
     "metadata": {},
     "output_type": "display_data"
    }
   ],
   "source": [
    "summarizer = pipeline(\n",
    "    task=\"summarization\",\n",
    "    model=\"t5-small\",\n",
    "    min_length=20,\n",
    "    max_length=40,\n",
    "    truncation=True,\n",
    "    model_kwargs={\"cache_dir\": 'C://Users//pc//Desktop//New folder//Cache Folder'},\n",
    ") "
   ]
  },
  {
   "cell_type": "code",
   "execution_count": 7,
   "id": "47519127",
   "metadata": {},
   "outputs": [
    {
     "data": {
      "text/plain": [
       "[{'summary_text': 'the full cost of damage in Newton Stewart is still being assessed . many roads in peeblesshire remain badly affected by standing water . a flood alert remains in place across the'}]"
      ]
     },
     "execution_count": 7,
     "metadata": {},
     "output_type": "execute_result"
    }
   ],
   "source": [
    "summarizer(xsum_sample[\"document\"][0])"
   ]
  },
  {
   "cell_type": "code",
   "execution_count": 14,
   "id": "a7d1db34",
   "metadata": {},
   "outputs": [
    {
     "name": "stdout",
     "output_type": "stream",
     "text": [
      "Enter the text you want to summarize: \"<start> Hi,There can be numerous clinical conditions to present with sharp weird movements in the center of abdomen as intestine colic, GI infection, acute gastric upset or others. Immediate relief with anti spasmodic medication as dicyclomine or drotaverine prescription from your GP and later on discuss the need of an ultrasound of the abdomen & pelvis for precise underlying evaluation of abdomen viscera and care accordingly.Hope I have answered your query. Let me know if I can assist you further. Regards, Dr. Bhagyesh V. Patel, General Surgeon <end>\"\n",
      "- \"start>\" can be numerous clinical conditions to present with sharp weird movements in the center of abdomen as intestine colic, GI infection, acute gastric upset or others \n",
      "- the need of an ultrasound of the abdomen & pelvis for precise evaluation of abdomen viscera and care accordingly .\n",
      "\n",
      "Summary: \"start>\" can be numerous clinical conditions to present with sharp weird movements in the center of abdomen as intestine colic, GI infection, acute gastric upset or others . the need of an ultrasound of the abdomen & pelvis for precise evaluation of abdomen viscera and care accordingly .\n"
     ]
    }
   ],
   "source": [
    "# Ask the user for input\n",
    "input_text = input(\"Enter the text you want to summarize: \")\n",
    "\n",
    "# Generate the summary\n",
    "summary = summarizer(input_text, max_length=200, min_length=30, do_sample=False)[0]['summary_text']\n",
    "\n",
    "bullet_points = summary.split(\". \")\n",
    "\n",
    "for point in bullet_points:\n",
    "    \n",
    "    print(f\"- {point}\")\n",
    "\n",
    "# Print the generated summary\n",
    "print()\n",
    "print(\"Summary:\", summary)"
   ]
  },
  {
   "cell_type": "code",
   "execution_count": 1,
   "id": "e51a51f4",
   "metadata": {},
   "outputs": [],
   "source": [
    "import pickle\n",
    "from transformers import pipeline"
   ]
  },
  {
   "cell_type": "code",
   "execution_count": 2,
   "id": "a6dd3a44",
   "metadata": {},
   "outputs": [],
   "source": [
    "summarizer = pipeline(\n",
    "    task=\"summarization\",\n",
    "    model=\"t5-small\",\n",
    "    min_length=20,\n",
    "    max_length=40,\n",
    "    truncation=True,\n",
    "    model_kwargs={\"cache_dir\": 'C://Users//pc//Desktop//New folder//Cache Folder'},\n",
    ") "
   ]
  },
  {
   "cell_type": "code",
   "execution_count": 3,
   "id": "9db3117f",
   "metadata": {},
   "outputs": [],
   "source": [
    "with open('summarizer_pipeline.pkl', 'wb') as f:\n",
    "    pickle.dump(summarizer, f)"
   ]
  },
  {
   "cell_type": "code",
   "execution_count": 4,
   "id": "77b664d4",
   "metadata": {},
   "outputs": [],
   "source": [
    "with open('summarizer_pipeline.pkl', 'rb') as f:\n",
    "    loaded_summarizer = pickle.load(f)"
   ]
  },
  {
   "cell_type": "code",
   "execution_count": 12,
   "id": "0937db41",
   "metadata": {},
   "outputs": [
    {
     "name": "stdout",
     "output_type": "stream",
     "text": [
      "Enter the text you want to summarize: asfdsafddddddddddddd\n"
     ]
    },
    {
     "name": "stderr",
     "output_type": "stream",
     "text": [
      "Your max_length is set to 100, but your input_length is only 22. Since this is a summarization task, where outputs shorter than the input are typically wanted, you might consider decreasing max_length manually, e.g. summarizer('...', max_length=11)\n"
     ]
    },
    {
     "name": "stdout",
     "output_type": "stream",
     "text": [
      "- asfdsafddd dd.dd andddsdd are the most popular \n",
      "- dr\n",
      "- mcdonald's is one of the most famous .\n",
      "\n",
      "Patient-Summary: asfdsafddd dd.dd andddsdd are the most popular . dr. mcdonald's is one of the most famous .\n"
     ]
    }
   ],
   "source": [
    "input_text = input(\"Enter the text you want to summarize: \")\n",
    "\n",
    "# Generate the summary\n",
    "summary = loaded_summarizer(input_text, max_length=100, min_length=30, do_sample=False)[0]['summary_text']\n",
    "\n",
    "bullet_points = summary.split(\". \")\n",
    "\n",
    "for point in bullet_points:\n",
    "    \n",
    "    print(f\"- {point}\")\n",
    "\n",
    "print()\n",
    "print(\"Patient-Summary:\", summary)"
   ]
  },
  {
   "cell_type": "code",
   "execution_count": 8,
   "id": "0553955f",
   "metadata": {},
   "outputs": [
    {
     "name": "stdout",
     "output_type": "stream",
     "text": [
      "Enter the text you want to summarize: <start> Hello, It is unlikely be an hernia. The symptoms are more likely suggestive of musculo-skeletal causes like sprain or contusion. As of now you can use analgesics/anti inflammatory combination like Aceclofenac/Seratiopeptdase for symptomatic relief. You can go for an ultrasound scan to rule out hernia. Hope I have answered your query. Let me know if I can assist you further. Wishing you all the best. Regards, Dr. Shinas Hussain, General & Family Physician <end>\"\n",
      "- the symptoms are more likely suggestive of musculoskeletal causes like sprain or contusion \n",
      "- you can go for an ultrasound scan to rule out hernia .\n",
      "\n",
      "Doctor-Summary: the symptoms are more likely suggestive of musculoskeletal causes like sprain or contusion . you can go for an ultrasound scan to rule out hernia .\n"
     ]
    }
   ],
   "source": [
    "input_text = input(\"Enter the text you want to summarize: \")\n",
    "\n",
    "# Generate the summary\n",
    "summary = summarizer(input_text, max_length=100, min_length=30, do_sample=False)[0]['summary_text']\n",
    "\n",
    "bullet_points = summary.split(\". \")\n",
    "\n",
    "for point in bullet_points:\n",
    "    \n",
    "    print(f\"- {point}\")\n",
    "\n",
    "print()\n",
    "print(\"Doctor-Summary:\", summary)"
   ]
  },
  {
   "cell_type": "code",
   "execution_count": 10,
   "id": "c9324aa1",
   "metadata": {},
   "outputs": [
    {
     "name": "stdout",
     "output_type": "stream",
     "text": [
      "Enter the text you want to summarize: I have a sharp pain at the front of my hip at the top of my thigh where it nears my lower abdomen. This pain only occurs when I bend over and lasts there after for a few seconds. It then goes away and does not recur until I bend over again. Any idea what this could be? Maybe a hernia?\n"
     ]
    },
    {
     "name": "stderr",
     "output_type": "stream",
     "text": [
      "Your max_length is set to 100, but your input_length is only 81. Since this is a summarization task, where outputs shorter than the input are typically wanted, you might consider decreasing max_length manually, e.g. summarizer('...', max_length=40)\n"
     ]
    },
    {
     "name": "stdout",
     "output_type": "stream",
     "text": [
      "- this pain only occurs when I bend over and lasts there after for a few seconds \n",
      "- it then goes away and does not recur until I bend again .\n",
      "\n",
      "Doctor-Summary: this pain only occurs when I bend over and lasts there after for a few seconds . it then goes away and does not recur until I bend again .\n"
     ]
    }
   ],
   "source": [
    "input_text = input(\"Enter the text you want to summarize: \")\n",
    "\n",
    "# Generate the summary\n",
    "p_summary = summarizer(input_text, max_length=100, min_length=30, do_sample=False)[0]['summary_text']\n",
    "\n",
    "bullet_points = p_summary.split(\". \")\n",
    "\n",
    "for point in bullet_points:\n",
    "    \n",
    "    print(f\"- {point}\")\n",
    "\n",
    "print()\n",
    "print(\"Doctor-Summary:\", p_summary)"
   ]
  },
  {
   "cell_type": "code",
   "execution_count": 9,
   "id": "9357cac1",
   "metadata": {},
   "outputs": [
    {
     "name": "stdout",
     "output_type": "stream",
     "text": [
      "Enter the text you want to summarize: <start> Hello, It is unlikely be an hernia. The symptoms are more likely suggestive of musculo-skeletal causes like sprain or contusion. As of now you can use analgesics/anti inflammatory combination like Aceclofenac/Seratiopeptdase for symptomatic relief. You can go for an ultrasound scan to rule out hernia. Hope I have answered your query. Let me know if I can assist you further. Wishing you all the best. Regards, Dr. Shinas Hussain, General & Family Physician <end>\"\n",
      "- the symptoms are more likely suggestive of musculoskeletal causes like sprain or contusion \n",
      "- you can go for an ultrasound scan to rule out hernia .\n",
      "\n",
      "Doctor-Summary: the symptoms are more likely suggestive of musculoskeletal causes like sprain or contusion . you can go for an ultrasound scan to rule out hernia .\n"
     ]
    }
   ],
   "source": [
    "input_text = input(\"Enter the text you want to summarize: \")\n",
    "\n",
    "# Generate the summary\n",
    "d_summary = summarizer(input_text, max_length=100, min_length=30, do_sample=False)[0]['summary_text']\n",
    "\n",
    "bullet_points = d_summary.split(\". \")\n",
    "\n",
    "for point in bullet_points:\n",
    "    \n",
    "    print(f\"- {point}\")\n",
    "\n",
    "print()\n",
    "print(\"Doctor-Summary:\", d_summary)"
   ]
  },
  {
   "cell_type": "code",
   "execution_count": 11,
   "id": "3522b592",
   "metadata": {},
   "outputs": [
    {
     "name": "stderr",
     "output_type": "stream",
     "text": [
      "Your max_length is set to 100, but your input_length is only 79. Since this is a summarization task, where outputs shorter than the input are typically wanted, you might consider decreasing max_length manually, e.g. summarizer('...', max_length=39)\n"
     ]
    },
    {
     "name": "stdout",
     "output_type": "stream",
     "text": [
      "- this pain only occurs when I bend over and lasts there after for a few seconds \n",
      "- it then goes away and does not recur until I bend again \n",
      "- you can go for an ultrasound scan to rule out hernia .\n",
      "\n",
      "Doctor-Summary: this pain only occurs when I bend over and lasts there after for a few seconds . it then goes away and does not recur until I bend again . you can go for an ultrasound scan to rule out hernia .\n"
     ]
    }
   ],
   "source": [
    "# input_text = input(\"Enter the text you want to summarize: \")\n",
    "# combine_summary=p_summary+d_summary\n",
    "\n",
    "# # Generate the summary\n",
    "# summary = summarizer(combine_summary, max_length=60, min_length=30, do_sample=False)[0]['summary_text']\n",
    "\n",
    "# bullet_points = summary.split(\". \")\n",
    "\n",
    "# for point in bullet_points:\n",
    "    \n",
    "#     print(f\"- {point}\")\n",
    "\n",
    "# print()\n",
    "# print(\"Doctor-Summary:\", summary)"
   ]
  },
  {
   "cell_type": "code",
   "execution_count": null,
   "id": "fe63e9f0",
   "metadata": {},
   "outputs": [],
   "source": [
    "from fastapi import FastAPI\n",
    "import uvicorn\n",
    "import asyncio\n",
    "app = FastAPI()"
   ]
  },
  {
   "cell_type": "code",
   "execution_count": null,
   "id": "a442bc9f",
   "metadata": {},
   "outputs": [],
   "source": [
    "pickle_in = open(\"summarizer_pipeline.pkl\",\"rb\")\n",
    "summarizer=pickle.load(pickle_in)"
   ]
  },
  {
   "cell_type": "code",
   "execution_count": 18,
   "id": "814611c9",
   "metadata": {},
   "outputs": [],
   "source": [
    "@app.post('/summarizer')\n",
    "async def doctor_patient_summarizer(data:Pa):\n",
    "    return{\"message\":\"Hello\"}\n",
    "\n"
   ]
  },
  {
   "cell_type": "code",
   "execution_count": null,
   "id": "7d1749cf",
   "metadata": {},
   "outputs": [],
   "source": [
    "if __name__ == \"__main__\":\n",
    "    config=uvicorn.Config(app)\n",
    "    server=uvicorn.Server(config)\n",
    "    await server.serve()\n",
    "    "
   ]
  },
  {
   "cell_type": "code",
   "execution_count": null,
   "id": "e9a3f341",
   "metadata": {},
   "outputs": [],
   "source": []
  }
 ],
 "metadata": {
  "kernelspec": {
   "display_name": "Python 3 (ipykernel)",
   "language": "python",
   "name": "python3"
  },
  "language_info": {
   "codemirror_mode": {
    "name": "ipython",
    "version": 3
   },
   "file_extension": ".py",
   "mimetype": "text/x-python",
   "name": "python",
   "nbconvert_exporter": "python",
   "pygments_lexer": "ipython3",
   "version": "3.9.13"
  }
 },
 "nbformat": 4,
 "nbformat_minor": 5
}
