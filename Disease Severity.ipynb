{
 "cells": [
  {
   "cell_type": "code",
   "execution_count": 2,
   "id": "aab42496",
   "metadata": {},
   "outputs": [],
   "source": [
    "import numpy as np\n",
    "import pandas as pd\n",
    "from sklearn.feature_extraction.text import TfidfVectorizer\n",
    "from sklearn.model_selection import train_test_split\n",
    "from sklearn.svm import SVC\n",
    "from sklearn.metrics import accuracy_score\n",
    "from sklearn.naive_bayes import GaussianNB\n",
    "#For later purpose:\n",
    "#Tensorflow\n",
    "#Pytorch"
   ]
  },
  {
   "cell_type": "code",
   "execution_count": 28,
   "id": "95032213",
   "metadata": {},
   "outputs": [
    {
     "name": "stdout",
     "output_type": "stream",
     "text": [
      "Collecting lazypredict\n",
      "  Downloading lazypredict-0.2.12-py2.py3-none-any.whl (12 kB)\n",
      "Requirement already satisfied: scikit-learn in c:\\anaconda\\lib\\site-packages (from lazypredict) (1.0.2)\n",
      "Requirement already satisfied: pandas in c:\\anaconda\\lib\\site-packages (from lazypredict) (1.4.4)\n",
      "Requirement already satisfied: xgboost in c:\\anaconda\\lib\\site-packages (from lazypredict) (1.7.6)\n",
      "Collecting lightgbm\n",
      "  Downloading lightgbm-4.0.0-py3-none-win_amd64.whl (1.3 MB)\n",
      "     ---------------------------------------- 1.3/1.3 MB 4.9 MB/s eta 0:00:00\n",
      "Requirement already satisfied: click in c:\\anaconda\\lib\\site-packages (from lazypredict) (8.0.4)\n",
      "Requirement already satisfied: tqdm in c:\\anaconda\\lib\\site-packages (from lazypredict) (4.64.1)\n",
      "Requirement already satisfied: joblib in c:\\anaconda\\lib\\site-packages (from lazypredict) (1.1.0)\n",
      "Requirement already satisfied: colorama in c:\\anaconda\\lib\\site-packages (from click->lazypredict) (0.4.6)\n",
      "Requirement already satisfied: scipy in c:\\anaconda\\lib\\site-packages (from lightgbm->lazypredict) (1.9.1)\n",
      "Requirement already satisfied: numpy in c:\\anaconda\\lib\\site-packages (from lightgbm->lazypredict) (1.21.5)\n",
      "Requirement already satisfied: python-dateutil>=2.8.1 in c:\\anaconda\\lib\\site-packages (from pandas->lazypredict) (2.8.2)\n",
      "Requirement already satisfied: pytz>=2020.1 in c:\\anaconda\\lib\\site-packages (from pandas->lazypredict) (2022.1)\n",
      "Requirement already satisfied: threadpoolctl>=2.0.0 in c:\\anaconda\\lib\\site-packages (from scikit-learn->lazypredict) (2.2.0)\n",
      "Requirement already satisfied: six>=1.5 in c:\\anaconda\\lib\\site-packages (from python-dateutil>=2.8.1->pandas->lazypredict) (1.16.0)\n",
      "Installing collected packages: lightgbm, lazypredict\n",
      "Successfully installed lazypredict-0.2.12 lightgbm-4.0.0\n"
     ]
    }
   ],
   "source": [
    "!pip install lazypredict"
   ]
  },
  {
   "cell_type": "code",
   "execution_count": 3,
   "id": "bf1dfe6c",
   "metadata": {},
   "outputs": [],
   "source": [
    "disease_pred=pd.read_csv('pred_status.csv')"
   ]
  },
  {
   "cell_type": "code",
   "execution_count": 4,
   "id": "5a1a1bf3",
   "metadata": {},
   "outputs": [
    {
     "data": {
      "text/html": [
       "<div>\n",
       "<style scoped>\n",
       "    .dataframe tbody tr th:only-of-type {\n",
       "        vertical-align: middle;\n",
       "    }\n",
       "\n",
       "    .dataframe tbody tr th {\n",
       "        vertical-align: top;\n",
       "    }\n",
       "\n",
       "    .dataframe thead th {\n",
       "        text-align: right;\n",
       "    }\n",
       "</style>\n",
       "<table border=\"1\" class=\"dataframe\">\n",
       "  <thead>\n",
       "    <tr style=\"text-align: right;\">\n",
       "      <th></th>\n",
       "      <th>Description</th>\n",
       "      <th>Doctor</th>\n",
       "      <th>Patient</th>\n",
       "      <th>Status</th>\n",
       "    </tr>\n",
       "  </thead>\n",
       "  <tbody>\n",
       "    <tr>\n",
       "      <th>0</th>\n",
       "      <td>what does abutment of the nerve root mean</td>\n",
       "      <td>hi I have gone through your query with diligen...</td>\n",
       "      <td>hi doctor I am just wondering what is abutting...</td>\n",
       "      <td>medium severity</td>\n",
       "    </tr>\n",
       "    <tr>\n",
       "      <th>1</th>\n",
       "      <td>every time I eat spicy food I poop blood why</td>\n",
       "      <td>hello I have gone through your information and...</td>\n",
       "      <td>hi doctor I am a 26 year old male I am feet an...</td>\n",
       "      <td>high severity</td>\n",
       "    </tr>\n",
       "    <tr>\n",
       "      <th>2</th>\n",
       "      <td>will nano leo give permanent solution for erec...</td>\n",
       "      <td>hi for further doubts consult a sexologist online</td>\n",
       "      <td>hello doctor I am 48 years old I am experienci...</td>\n",
       "      <td>low severity</td>\n",
       "    </tr>\n",
       "    <tr>\n",
       "      <th>3</th>\n",
       "      <td>will kalarchikai cure multiple ovarian cysts i...</td>\n",
       "      <td>hello I just read your query see kalarachi kai...</td>\n",
       "      <td>hello doctor I have multiple small cysts in bo...</td>\n",
       "      <td>medium severity</td>\n",
       "    </tr>\n",
       "    <tr>\n",
       "      <th>4</th>\n",
       "      <td>I masturbate only by rubbing the tip of the pe...</td>\n",
       "      <td>hi for further doubts consult a sexologist online</td>\n",
       "      <td>hi doctor during masturbation I just rub the t...</td>\n",
       "      <td>low severity</td>\n",
       "    </tr>\n",
       "  </tbody>\n",
       "</table>\n",
       "</div>"
      ],
      "text/plain": [
       "                                         Description  \\\n",
       "0          what does abutment of the nerve root mean   \n",
       "1       every time I eat spicy food I poop blood why   \n",
       "2  will nano leo give permanent solution for erec...   \n",
       "3  will kalarchikai cure multiple ovarian cysts i...   \n",
       "4  I masturbate only by rubbing the tip of the pe...   \n",
       "\n",
       "                                              Doctor  \\\n",
       "0  hi I have gone through your query with diligen...   \n",
       "1  hello I have gone through your information and...   \n",
       "2  hi for further doubts consult a sexologist online   \n",
       "3  hello I just read your query see kalarachi kai...   \n",
       "4  hi for further doubts consult a sexologist online   \n",
       "\n",
       "                                             Patient           Status  \n",
       "0  hi doctor I am just wondering what is abutting...  medium severity  \n",
       "1  hi doctor I am a 26 year old male I am feet an...    high severity  \n",
       "2  hello doctor I am 48 years old I am experienci...     low severity  \n",
       "3  hello doctor I have multiple small cysts in bo...  medium severity  \n",
       "4  hi doctor during masturbation I just rub the t...     low severity  "
      ]
     },
     "execution_count": 4,
     "metadata": {},
     "output_type": "execute_result"
    }
   ],
   "source": [
    "disease_pred.head()"
   ]
  },
  {
   "cell_type": "code",
   "execution_count": 5,
   "id": "54d27b0d",
   "metadata": {},
   "outputs": [
    {
     "data": {
      "text/plain": [
       "Description     0\n",
       "Doctor         81\n",
       "Patient         0\n",
       "Status          0\n",
       "dtype: int64"
      ]
     },
     "execution_count": 5,
     "metadata": {},
     "output_type": "execute_result"
    }
   ],
   "source": [
    "disease_pred.isnull().sum()"
   ]
  },
  {
   "cell_type": "code",
   "execution_count": 6,
   "id": "4e63c946",
   "metadata": {},
   "outputs": [
    {
     "data": {
      "text/plain": [
       "array(['medium severity', 'high severity', 'low severity',\n",
       "       'medium severity:', 'Low severity', 'low severity\\r'], dtype=object)"
      ]
     },
     "execution_count": 6,
     "metadata": {},
     "output_type": "execute_result"
    }
   ],
   "source": [
    "disease_pred['Status'].unique()"
   ]
  },
  {
   "cell_type": "code",
   "execution_count": 7,
   "id": "955a5b22",
   "metadata": {},
   "outputs": [],
   "source": [
    "disease_pred['Status']=disease_pred['Status'].map({'medium severity':1,'medium severity:':1,'low severity':0,'Low severity':0,'low severity\\r':0,'high severity':2})"
   ]
  },
  {
   "cell_type": "code",
   "execution_count": 8,
   "id": "0d3e011f",
   "metadata": {},
   "outputs": [
    {
     "data": {
      "text/html": [
       "<div>\n",
       "<style scoped>\n",
       "    .dataframe tbody tr th:only-of-type {\n",
       "        vertical-align: middle;\n",
       "    }\n",
       "\n",
       "    .dataframe tbody tr th {\n",
       "        vertical-align: top;\n",
       "    }\n",
       "\n",
       "    .dataframe thead th {\n",
       "        text-align: right;\n",
       "    }\n",
       "</style>\n",
       "<table border=\"1\" class=\"dataframe\">\n",
       "  <thead>\n",
       "    <tr style=\"text-align: right;\">\n",
       "      <th></th>\n",
       "      <th>Description</th>\n",
       "      <th>Doctor</th>\n",
       "      <th>Patient</th>\n",
       "      <th>Status</th>\n",
       "    </tr>\n",
       "  </thead>\n",
       "  <tbody>\n",
       "    <tr>\n",
       "      <th>0</th>\n",
       "      <td>what does abutment of the nerve root mean</td>\n",
       "      <td>hi I have gone through your query with diligen...</td>\n",
       "      <td>hi doctor I am just wondering what is abutting...</td>\n",
       "      <td>1</td>\n",
       "    </tr>\n",
       "    <tr>\n",
       "      <th>1</th>\n",
       "      <td>every time I eat spicy food I poop blood why</td>\n",
       "      <td>hello I have gone through your information and...</td>\n",
       "      <td>hi doctor I am a 26 year old male I am feet an...</td>\n",
       "      <td>2</td>\n",
       "    </tr>\n",
       "    <tr>\n",
       "      <th>2</th>\n",
       "      <td>will nano leo give permanent solution for erec...</td>\n",
       "      <td>hi for further doubts consult a sexologist online</td>\n",
       "      <td>hello doctor I am 48 years old I am experienci...</td>\n",
       "      <td>0</td>\n",
       "    </tr>\n",
       "    <tr>\n",
       "      <th>3</th>\n",
       "      <td>will kalarchikai cure multiple ovarian cysts i...</td>\n",
       "      <td>hello I just read your query see kalarachi kai...</td>\n",
       "      <td>hello doctor I have multiple small cysts in bo...</td>\n",
       "      <td>1</td>\n",
       "    </tr>\n",
       "    <tr>\n",
       "      <th>4</th>\n",
       "      <td>I masturbate only by rubbing the tip of the pe...</td>\n",
       "      <td>hi for further doubts consult a sexologist online</td>\n",
       "      <td>hi doctor during masturbation I just rub the t...</td>\n",
       "      <td>0</td>\n",
       "    </tr>\n",
       "  </tbody>\n",
       "</table>\n",
       "</div>"
      ],
      "text/plain": [
       "                                         Description  \\\n",
       "0          what does abutment of the nerve root mean   \n",
       "1       every time I eat spicy food I poop blood why   \n",
       "2  will nano leo give permanent solution for erec...   \n",
       "3  will kalarchikai cure multiple ovarian cysts i...   \n",
       "4  I masturbate only by rubbing the tip of the pe...   \n",
       "\n",
       "                                              Doctor  \\\n",
       "0  hi I have gone through your query with diligen...   \n",
       "1  hello I have gone through your information and...   \n",
       "2  hi for further doubts consult a sexologist online   \n",
       "3  hello I just read your query see kalarachi kai...   \n",
       "4  hi for further doubts consult a sexologist online   \n",
       "\n",
       "                                             Patient  Status  \n",
       "0  hi doctor I am just wondering what is abutting...       1  \n",
       "1  hi doctor I am a 26 year old male I am feet an...       2  \n",
       "2  hello doctor I am 48 years old I am experienci...       0  \n",
       "3  hello doctor I have multiple small cysts in bo...       1  \n",
       "4  hi doctor during masturbation I just rub the t...       0  "
      ]
     },
     "execution_count": 8,
     "metadata": {},
     "output_type": "execute_result"
    }
   ],
   "source": [
    "disease_pred.head()"
   ]
  },
  {
   "cell_type": "code",
   "execution_count": 9,
   "id": "586213b9",
   "metadata": {},
   "outputs": [],
   "source": [
    "disease_pred.drop('Description',axis=1,inplace=True)"
   ]
  },
  {
   "cell_type": "code",
   "execution_count": 10,
   "id": "a656ec07",
   "metadata": {},
   "outputs": [],
   "source": [
    "X=disease_pred['Doctor']+''+disease_pred['Patient']"
   ]
  },
  {
   "cell_type": "code",
   "execution_count": 11,
   "id": "211fc976",
   "metadata": {},
   "outputs": [],
   "source": [
    "y=disease_pred['Status']"
   ]
  },
  {
   "cell_type": "code",
   "execution_count": 12,
   "id": "074e3e47",
   "metadata": {},
   "outputs": [],
   "source": [
    "X_train,X_test,y_train,y_test=train_test_split(X,y,test_size=0.2,random_state=42)"
   ]
  },
  {
   "cell_type": "code",
   "execution_count": 13,
   "id": "0b9bc581",
   "metadata": {},
   "outputs": [],
   "source": [
    "X_train = X_train.fillna('')\n",
    "X_test = X_test.fillna('')"
   ]
  },
  {
   "cell_type": "code",
   "execution_count": 14,
   "id": "68d9678c",
   "metadata": {},
   "outputs": [],
   "source": [
    "tfidf_vectorizer=TfidfVectorizer(max_features=1000)\n",
    "X_train_tfidf=tfidf_vectorizer.fit_transform(X_train.astype(str))\n",
    "X_test_tfidf=tfidf_vectorizer.transform(X_test.astype(str))"
   ]
  },
  {
   "cell_type": "code",
   "execution_count": 15,
   "id": "ee80477d",
   "metadata": {},
   "outputs": [
    {
     "data": {
      "text/plain": [
       "SVC(kernel='linear')"
      ]
     },
     "execution_count": 15,
     "metadata": {},
     "output_type": "execute_result"
    }
   ],
   "source": [
    "svm_classifier=SVC(kernel='linear')\n",
    "svm_classifier.fit(X_train_tfidf,y_train)"
   ]
  },
  {
   "cell_type": "code",
   "execution_count": 16,
   "id": "88e6db5b",
   "metadata": {},
   "outputs": [],
   "source": [
    "predictions=svm_classifier.predict(X_test_tfidf)"
   ]
  },
  {
   "cell_type": "code",
   "execution_count": 17,
   "id": "6bb39c65",
   "metadata": {},
   "outputs": [
    {
     "name": "stdout",
     "output_type": "stream",
     "text": [
      "Accuracy: 0.58\n"
     ]
    }
   ],
   "source": [
    "accuracy = accuracy_score(y_test, predictions)\n",
    "print(f\"Accuracy: {accuracy:.2f}\")"
   ]
  },
  {
   "cell_type": "code",
   "execution_count": 18,
   "id": "ef3f65dd",
   "metadata": {},
   "outputs": [],
   "source": [
    "# gnb=GaussianNB()"
   ]
  },
  {
   "cell_type": "code",
   "execution_count": 19,
   "id": "0c1d0e75",
   "metadata": {},
   "outputs": [],
   "source": [
    "# X_train_dense = X_train_tfidf.toarray()\n",
    "# X_test_dense = X_test_tfidf.toarray()"
   ]
  },
  {
   "cell_type": "code",
   "execution_count": 21,
   "id": "40f4c745",
   "metadata": {},
   "outputs": [],
   "source": [
    "# y_pred = gnb.fit(X_train_dense, y_train).predict(X_test_dense)"
   ]
  },
  {
   "cell_type": "code",
   "execution_count": 22,
   "id": "f59a6f12",
   "metadata": {},
   "outputs": [
    {
     "name": "stdout",
     "output_type": "stream",
     "text": [
      "Accuracy: 0.52\n"
     ]
    }
   ],
   "source": [
    "# accuracy = accuracy_score(y_pred, predictions)\n",
    "# print(f\"Accuracy: {accuracy:.2f}\")"
   ]
  },
  {
   "cell_type": "code",
   "execution_count": 25,
   "id": "930e6dc9",
   "metadata": {},
   "outputs": [],
   "source": [
    "text=\"Hi,I m XXXX,I am ulcer patient ,I did my endoscopy last yr in July and took medication till Feb after that I left the medicine and started taking DGL and probiotic for a month after that I did endoscopy again and found out that only superficial scars are left ..but after endoscopy I really felt great pain the stomach again and mild pain after few days.my doc told me not to take high protein diets.but I ignored and took it and now I sometimes feel Pricky feeling in my stomach .I m worried whether my ulcer is coming back\""
   ]
  },
  {
   "cell_type": "code",
   "execution_count": 29,
   "id": "68642e4d",
   "metadata": {},
   "outputs": [],
   "source": [
    "input_text=tfidf_vectorizer.transform([text])"
   ]
  },
  {
   "cell_type": "code",
   "execution_count": 30,
   "id": "1128b027",
   "metadata": {},
   "outputs": [],
   "source": [
    "prediction=svm_classifier.predict(input_text)"
   ]
  },
  {
   "cell_type": "code",
   "execution_count": 31,
   "id": "e1ff3462",
   "metadata": {},
   "outputs": [
    {
     "name": "stdout",
     "output_type": "stream",
     "text": [
      "Prediction :1\n"
     ]
    }
   ],
   "source": [
    "print(f\"Prediction :{prediction[0]}\")"
   ]
  },
  {
   "cell_type": "code",
   "execution_count": null,
   "id": "6f5fa18c",
   "metadata": {},
   "outputs": [],
   "source": []
  }
 ],
 "metadata": {
  "kernelspec": {
   "display_name": "Python 3 (ipykernel)",
   "language": "python",
   "name": "python3"
  },
  "language_info": {
   "codemirror_mode": {
    "name": "ipython",
    "version": 3
   },
   "file_extension": ".py",
   "mimetype": "text/x-python",
   "name": "python",
   "nbconvert_exporter": "python",
   "pygments_lexer": "ipython3",
   "version": "3.9.13"
  }
 },
 "nbformat": 4,
 "nbformat_minor": 5
}
